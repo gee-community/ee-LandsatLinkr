{
  "cells": [
    {
      "cell_type": "markdown",
      "metadata": {
        "id": "ElDwLGzPc-VS"
      },
      "source": [
        "[![Open In Colab](https://colab.research.google.com/assets/colab-badge.svg)](https://colab.research.google.com/github/gee-community/ee-LandsatLinkr/blob/main/landsatlinkr_workshop_template.ipynb)"
      ]
    },
    {
      "cell_type": "markdown",
      "metadata": {
        "id": "G-uiqaRAOo_Q"
      },
      "source": [
        "## **1. Environment Setup**\n",
        "\n",
        "---"
      ]
    },
    {
      "cell_type": "markdown",
      "metadata": {
        "id": "gzkiZpJPOXwm"
      },
      "source": [
        "Import the Earth Engine API and authenticate to your EE account \n",
        "This step requires persistence :)\n",
        "1. Run the block below, select Run Anyway if a pop up appears, then open the link that is generated\n",
        "2. Choose a Cloud Project to use with this notebook.\n",
        "If you don’t yet have a cloud-enabled project, select Choose Project > Create a New Cloud Project > and then give it a good name (this is permanent). \n",
        "You may have to then accept the Google Cloud Terms of Service. Open the link that is provided and select Agree and Continue on that page. \n",
        "\n",
        "3. Click 'Generate Token' (keep read-only scopes checked off)\n",
        "4. Choose your EE account\n",
        "5. Click Continue (not 'Back to Safety')\n",
        "6. Check both of the checkboxes and select 'Continue'\n",
        "7. Copy the Authorization Code at the bottom of the page and paste it in the code block below\n",
        "\n",
        "*If you're already authenticated, you will see 'Successfully saved authorization token' instead of a box to paste the code into*\n",
        "\n"
      ]
    },
    {
      "cell_type": "code",
      "execution_count": null,
      "metadata": {
        "id": "uPG-SZDcOC7W"
      },
      "outputs": [],
      "source": [
        "import ee\n",
        "ee.Authenticate()\n",
        "ee.Initialize()"
      ]
    },
    {
      "cell_type": "markdown",
      "metadata": {
        "id": "1htUCSlsOajh"
      },
      "source": [
        "Import the LandsatLinkr library from GitHub. This allows us to call the imported functions directly. "
      ]
    },
    {
      "cell_type": "code",
      "execution_count": null,
      "metadata": {
        "id": "oSXgOmkYGcQO"
      },
      "outputs": [],
      "source": [
        "!rm -f -r /content/ee-LandsatLinkr\n",
        "!git clone https://github.com/gee-community/ee-LandsatLinkr --quiet\n",
        "import sys\n",
        "sys.path.append(\"/content/ee-LandsatLinkr\")\n",
        "from landsatlinkr import *"
      ]
    },
    {
      "cell_type": "markdown",
      "metadata": {
        "id": "P4fR8xWSKj8Z"
      },
      "source": [
        "## **2. Identity MSS WRS-1 Tile ID(s)**\n",
        "\n",
        "---\n",
        "\n",
        "First, we have to determine which WRS-1 tile we’ll be working with. WRS-1 tile IDs refer to the image footprints of the MSS sensor.\n",
        "\n",
        "1. Open this EE script: https://code.earthengine.google.com/463f6aef9f6db3c248068bc0c6d9a530?hideCode=true \n",
        "2. In the map, zoom to your study area and select its location to reveal the WRS-1 tile IDs at that location (this may take a minute or two to load)\n",
        "3. Copy the WRS-1 tile ID from the pop-up window and paste this WRS-1 tile ID into your run script as the **```WRS_1_GRANULE```** variable below\n",
        "\n",
        "*If your study area overlaps with two or more tile footprints, you should note all of the WRS-1 tile IDs and process as many tiles that intersect the study region one at a time – the results can be composited later. For now, select one WRS-1 tile ID to begin with (you can only process one tile ID at a time).*"
      ]
    },
    {
      "cell_type": "code",
      "execution_count": null,
      "metadata": {
        "id": "vPcdzuQdH8p0"
      },
      "outputs": [],
      "source": [
        "WRS_1_GRANULE =  '047034'"
      ]
    },
    {
      "cell_type": "markdown",
      "metadata": {
        "id": "hnsSQ7REP0eW"
      },
      "source": [
        "## **3. Create Asset Folders**\n",
        "\n",
        "---\n",
        "\n",
        "The LandsatLinkr workflow currently exports assets to your Earth Engine account to store the intermediate and final processing results. LandsatLinkr therefore requires a specific folder structure to run and the function **`createProjectDir`** will create this structure once you have updated the **`PROJECT_DIR`** variable to indicate your assets folder. \n",
        "\n",
        "\n",
        "1. Create an asset folder called ‘LandsatLinkr’ to organize all of your LLR projects in one place (each tile ID will generate a new subfolder). Head to the Assets tab of the [EE Code Editor](https://code.earthengine.google.com/) to make this folder in your cloud project assets.\n",
        "\n",
        "> You all now have at least one [cloud-enabled project](https://developers.google.com/earth-engine/cloud), so you’ll see two types of assets in your EE account: cloud project assets and legacy assets. Create your LandsatLinkr folder in your cloud project assets. Your new nested folders should look like this: \n",
        "- `projects/[cloud_project]/assets/LandsatLinkr`\n",
        "\n",
        "2. Update the **`PROJECT_DIR`** variable to indicate **your** assets folder and run the code block below."
      ]
    },
    {
      "cell_type": "code",
      "execution_count": null,
      "metadata": {
        "id": "6BysCvTPOWyN"
      },
      "outputs": [],
      "source": [
        "# Cloud Project Asset Folder\n",
        "# PROJECT_DIR = 'projects/[cloud_project]/assets/LandsatLinkr'\n",
        "\n",
        "PROJECT_DIR = 'projects/ee-annalisertaylor/assets/LandsatLinkr'\n",
        "createProjectDir(PROJECT_DIR, WRS_1_GRANULE)"
      ]
    },
    {
      "cell_type": "markdown",
      "metadata": {
        "id": "C2fOKd_VQz8v"
      },
      "source": [
        "## **4.1 Set Imagery Parameters**\n",
        "\n",
        "---\n",
        "\n",
        "These parameters determine which Landsat images are included in our analysis.\n",
        "*   **CRS** controls the geographic projection of the outputs.\n",
        "*   **DOY_RANGE** filters the imagery by certain days of the year, 1 through 365. The final output of LLR is annual composites, so this variable controls which parts of the year are included in the composites. \n",
        "*   **MAX_CLOUD** (0 to 100) controls the maximum allowable percentage of cloudiness for the included images.\n",
        "*   **MAX_GEOM_RMSE** controls the maximum allowable spatial offset in units of a pixel."
      ]
    },
    {
      "cell_type": "code",
      "execution_count": null,
      "metadata": {
        "id": "i-xS5u88QxyL"
      },
      "outputs": [],
      "source": [
        "CRS = 'EPSG:3857'\n",
        "DOY_RANGE = [160, 254]\n",
        "MAX_CLOUD = 50\n",
        "MAX_GEOM_RMSE = 0.5\n",
        "\n",
        "# All of the parameters needed to run LandTrendr (final step)\n",
        "LT_params = {\n",
        "    # the bands you select here are the only ones you can then visualize as RGB\n",
        "    # all choices: 'blue', 'green', 'red', 'nir', 'swir1', 'swir2', 'ndvi',\n",
        "    #   'tcb' (tasseled cap brightness), 'tcg' (tasseled cap greenness),\n",
        "    #   'tcw' (tasseled cap wetness), and 'tca’ (tasseled cap angle).\n",
        "    'ftvBands': ['red', 'green', 'blue'], \n",
        "    'maxSegments': 10,\n",
        "    'spikeThreshold': 0.7,\n",
        "    'vertexCountOvershoot': None,\n",
        "    'preventOneYearRecovery': None,\n",
        "    'recoveryThreshold': 0.5,\n",
        "    'pvalThreshold': None,\n",
        "    'bestModelProportion': None,\n",
        "    'minObservationsNeeded': None,\n",
        "    'scale': 30\n",
        "}\n",
        "\n",
        "# All of the parameters needed to run LandsatLinkr\n",
        "LLR_params = {\n",
        "  'maxRmseVerify': MAX_GEOM_RMSE,\n",
        "  'maxCloudCover': MAX_CLOUD,\n",
        "  'doyRange': DOY_RANGE,\n",
        "  'wrs1': WRS_1_GRANULE,\n",
        "  'crs': CRS,\n",
        "  'excludeIds': [],\n",
        "  'baseDir': PROJECT_DIR + '/' + WRS_1_GRANULE,\n",
        "  'projectDir': PROJECT_DIR,\n",
        "  'ltParams': LT_params,\n",
        "  'correctOffset': True,\n",
        "  'mssResample': 'nearest',\n",
        "  'mssScale': 30\n",
        "}"
      ]
    },
    {
      "cell_type": "markdown",
      "metadata": {
        "id": "UyFooaFAhOye"
      },
      "source": [
        "## **4.2 Preview and Filter MSS Images**\n",
        "\n",
        "---\n",
        "\n",
        "\n",
        "This step will print thumbnails of all of the available MSS images based on your parameters so that you can assess image quality and remove the bad images from your image collection. This step will result in an updated **`EXCLUDE_IDs`** variable, and can take between 10 to 30 minutes depending on the number of images available.\n",
        "\n",
        "Preview MSS WRS-1 images, note bad images and add them to the **`EXCLUDE_IDS`** list. Run until all bad images are removed."
      ]
    },
    {
      "cell_type": "code",
      "execution_count": null,
      "metadata": {
        "id": "nzCpb0k7g_Jy"
      },
      "outputs": [],
      "source": [
        "# Uncomment these two lines to re-run with your bad image IDs removed\n",
        "# EXCLUDE_IDS = []\n",
        "# LLR_params['excludeIds'] = EXCLUDE_IDS\n",
        "\n",
        "viewWrs1Col(LLR_params)"
      ]
    },
    {
      "cell_type": "code",
      "execution_count": null,
      "metadata": {
        "id": "Y9zEeJqnlQSC"
      },
      "outputs": [],
      "source": [
        "EXCLUDE_IDS = [\n",
        "    'LM10470341972208GDS03',\n",
        "    'LM10470341972244AAA02',\n",
        "    'LM10470341974161AAA02',\n",
        "    'LM10470341974197AAA04',\n",
        "    'LM20470341975201GDS03',\n",
        "    'LM10470341976205AAA05',\n",
        "    'LM10470341976223GDS03',\n",
        "    'LM20470341976250GDS03',\n",
        "    'LM20470341977190GDS04',\n",
        "    'LM30470341978194GDS03',\n",
        "    'LM20470341977226AAA05',\n",
        "    'LM20470341977244GDS03',\n",
        "    'LM20470341978185AAA02',\n",
        "    'LM20470341978203AAA02',\n",
        "    'LM30470341978212GDS03',\n",
        "    'LM20470341978221AAA02',\n",
        "    'LM20470341978239AAA02',\n",
        "    'LM30470341979207AAA02',\n",
        "    'LM20470341979216XXX01',\n",
        "    'LM20470341980211AAA10',\n",
        "    'LM30470341980220AAA03',\n",
        "    'LM20470341980229AAA06',\n",
        "    'LM20470341981205AAA03',\n",
        "    'LM20470341981223AAA03',\n",
        "    'LM30470341982173AAA08',\n",
        "    'LM30470341982227AAA03'\n",
        "]\n",
        "\n",
        "LLR_params['excludeIds'] = EXCLUDE_IDS"
      ]
    },
    {
      "cell_type": "markdown",
      "metadata": {
        "id": "35iL-UTkSs8L"
      },
      "source": [
        "## **5. Prepare the MSS Imagery**\n",
        "---\n",
        "\n",
        "**First**, we’ll create an MSS reference image. This reference image will be used for spectral normalization, as some of the sensors are inconsistent. This step will run a task that creates an image named 'ref' in your project's asset folder. This should take roughly 10 to 15 minutes. Once the task is completed (the word 'COMPLETED' will print below) and you see an image called 'ref' in your project's asset folder, you can move onto the next step.\n"
      ]
    },
    {
      "cell_type": "code",
      "execution_count": null,
      "metadata": {
        "colab": {
          "background_save": true
        },
        "id": "5VZqecuOSsSl"
      },
      "outputs": [],
      "source": [
        "mssRefTask = exportMssRefImg(LLR_params)\n",
        "monitorTaskStatus(mssRefTask)"
      ]
    },
    {
      "cell_type": "markdown",
      "metadata": {
        "id": "uR7I7uwftW0m"
      },
      "source": [
        "**Next**, we’ll correct each included MSS image to that reference image **`ref`**. After running the block below, all of the selected MSS imagery will be harmonized within the MSS time series. This function runs a task to export a stack of annual composite images that are based on the mediod for each year, which is saved as **`MSS_WRS1_to_WRS2_stack`** in the asset folder that was created earlier. This step can take between 10 and 25 minutes. Once the task is completed, you can move onto the next step.\n"
      ]
    },
    {
      "cell_type": "code",
      "execution_count": null,
      "metadata": {
        "id": "V-0lbJNxtZJA"
      },
      "outputs": [],
      "source": [
        "mssWrs1ToWrs2Task = processMssWrs1Imgs(LLR_params)\n",
        "monitorTaskStatus(mssWrs1ToWrs2Task)"
      ]
    },
    {
      "cell_type": "markdown",
      "metadata": {
        "id": "Kpr75NIp-aEY"
      },
      "source": [
        "## **6. Harmonize MSS Images to TM**\n",
        "\n",
        "---\n",
        "\n",
        "**First**, the function **`exportMss2TmCoefCol`** aggregates a  stratified random sample of pixels from coincident (collected simultaneously) MSS-TM image pairs. The resulting table (exported as an asset) is used to build a Random Forest (RF) regression model linking MSS imagery to TM imagery. This function will run a task that generates this table (**`mss_to_tm_coef_fc`**) and can take 10 to 20 minutes. Once this is completed you can move onto the next step.\n"
      ]
    },
    {
      "cell_type": "code",
      "execution_count": null,
      "metadata": {
        "id": "fUOHSHEXQYat"
      },
      "outputs": [],
      "source": [
        "mss2TmInfoTask = exportMss2TmCoefCol(LLR_params)\n",
        "monitorTaskStatus(mss2TmInfoTask)"
      ]
    },
    {
      "cell_type": "markdown",
      "metadata": {
        "id": "Mu6iqAo-y9Au"
      },
      "source": [
        "**Next**, the function **`exportMssOffset`** will use coincident MSS and TM WRS-2 images to calculate a per-pixel offset image. This ensures that the MSS imagery more closely match the TM values at each pixel. This step will run one task (**`MSS_offset`**) that takes 15 to 30 minutes."
      ]
    },
    {
      "cell_type": "code",
      "execution_count": null,
      "metadata": {
        "id": "LMBaLJngzHwp"
      },
      "outputs": [],
      "source": [
        "mssOffsetTask = exportMssOffset(LLR_params)\n",
        "monitorTaskStatus(mssOffsetTask)"
      ]
    },
    {
      "cell_type": "markdown",
      "metadata": {
        "id": "AEMG1HHfFlgh"
      },
      "source": [
        "**Finally**, the function **`exportFinalCorrectedMssCol`** will harmonize the WRS-1 MSS images to the TM time series using the Random Forest regression model calculated in a previous step. This step will run one task (**`WRS1_to_TM_stack`**) that takes 15 to 45 minutes.\n",
        "*   Note that LandsatLinkr doesn't harmonize the WRS-2 (MSS) Landsat 4 and 5 images at all because there are coincident TM images which are preferred and used instead (except for 1983 when there are few TM images).\n",
        "\n",
        "Once the task is completed, you can move onto the next step.\n",
        "\n",
        "**We now have an MSS collection that is harmonized to TM!**"
      ]
    },
    {
      "cell_type": "code",
      "execution_count": null,
      "metadata": {
        "id": "0trxpDSHR3eE"
      },
      "outputs": [],
      "source": [
        "mss2TmTask = exportFinalCorrectedMssCol(LLR_params)\n",
        "monitorTaskStatus(mss2TmTask)"
      ]
    },
    {
      "cell_type": "markdown",
      "metadata": {
        "id": "XMnhczvubntn"
      },
      "source": [
        "## **7. Run LandTrendr on the 50-year Time Series**\n",
        "\n",
        "---\n",
        "\n",
        "This step collects all of the Landsat imagery from later years (TM, ETM+, OLI, and OLI-2 sensors), filters them by the same days of year (**`DOY_RANGE`**), masks out cloudy pixels, and creates annual medoid composite images. This is combined with the MSS collection you exported in the previous step for a total of 50 years!\n",
        "\n",
        "It then runs the [LandTrendr](https://emapr.github.io/LT-GEE/index.html) algorithm to distill 50+ years of spectral information into periods of relative stability and disturbance or change. This temporal segmentation information, such as the years and magnitude of disturbance, is captured in the output image, **`landtrendr`**, which is saved to your assets folder. This step can take approximately 2 hours to run.\n",
        "\n",
        "For more information on how to interpret and work with this output in Earth Engine, check out this [guide](https://emapr.github.io/LT-GEE/lt-gee-outputs.html) or this [workshop](https://youtu.be/gsfHNzbmY10). \n"
      ]
    },
    {
      "cell_type": "code",
      "execution_count": null,
      "metadata": {
        "id": "BkVUN94ebp1h"
      },
      "outputs": [],
      "source": [
        "ltTask = exportLt(LLR_params)\n",
        "monitorTaskStatus(ltTask)"
      ]
    },
    {
      "cell_type": "markdown",
      "metadata": {
        "id": "kqmbgye8WD9t"
      },
      "source": [
        "## **8. Explore 50 Years of Landsat in Earth Engine**\n",
        "\n",
        "---\n",
        "\n",
        "Now that we’ve run all of our exports, we’ll move into the EE Code Editor to visualize and interactively inspect the results. Open [this example script](https://code.earthengine.google.com/?scriptPath=users%2Fannalisertaylor%2FG4G%3ALLR_Workshop_100622.js) in Earth Engine (and login if prompted). You may choose to save a copy to your account and name it ‘LLR_Workshop’ or something similar. Once your **`landtrendr`** asset has exported, change the main parameters in the EE script to investigate your data! "
      ]
    }
  ],
  "metadata": {
    "colab": {
      "collapsed_sections": [],
      "provenance": [],
      "toc_visible": true
    },
    "kernelspec": {
      "display_name": "Python 3",
      "name": "python3"
    },
    "language_info": {
      "name": "python"
    }
  },
  "nbformat": 4,
  "nbformat_minor": 0
}
