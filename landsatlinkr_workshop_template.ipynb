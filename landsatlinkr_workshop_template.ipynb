{
  "cells": [
    {
      "cell_type": "markdown",
      "metadata": {
        "id": "ElDwLGzPc-VS"
      },
      "source": [
        "[![Open In Colab](https://colab.research.google.com/assets/colab-badge.svg)](https://colab.research.google.com/github/gee-community/ee-LandsatLinkr/blob/main/colab_template.ipynb)"
      ]
    },
    {
      "cell_type": "markdown",
      "metadata": {
        "id": "G-uiqaRAOo_Q"
      },
      "source": [
        "## **Environment Setup**\n",
        "\n",
        "---"
      ]
    },
    {
      "cell_type": "markdown",
      "metadata": {
        "id": "gzkiZpJPOXwm"
      },
      "source": [
        "Import the Earth Engine API and authenticate to your EE account \n",
        "This step requires persistence :)\n",
        "1. Run the block below, select Run Anyway if a pop up appears, then open the link that is generated\n",
        "2. Click 'Generate Token' (keep read-only scopes checked off)\n",
        "3. Choose your EE account\n",
        "4. Click Continue (not 'Back to Safety')\n",
        "5. Check both of the checkboxes and select 'Continue'\n",
        "6. Copy the Authorization Code at the bottom of the page and paste it in the code block below\n",
        "\n",
        "*If you're already authenticated, you will see 'Successfully saved authorization token' instead of a box to paste the code into*\n",
        "\n"
      ]
    },
    {
      "cell_type": "code",
      "execution_count": null,
      "metadata": {
        "colab": {
          "base_uri": "https://localhost:8080/"
        },
        "id": "uPG-SZDcOC7W",
        "outputId": "ad7b9fb0-2254-4002-b5ae-72c129503cb4"
      },
      "outputs": [
        {
          "output_type": "stream",
          "name": "stdout",
          "text": [
            "To authorize access needed by Earth Engine, open the following URL in a web browser and follow the instructions. If the web browser does not start automatically, please manually browse the URL below.\n",
            "\n",
            "    https://code.earthengine.google.com/client-auth?scopes=https%3A//www.googleapis.com/auth/earthengine%20https%3A//www.googleapis.com/auth/devstorage.full_control&request_id=onSWfTPUTbgIXyfV3Rhy5M1NCmAgiSVKaHZDNIIxL2o&tc=IylE7Ju4kNO1IG40GKiWoA3Xrxt8A_-25XrOY8Pz04E&cc=nvlEr6YtPoVbt3TZn5QihluwVLTU1yRoK2HCXOfi_h8\n",
            "\n",
            "The authorization workflow will generate a code, which you should paste in the box below.\n",
            "Enter verification code: 4/1ARtbsJrqzquuBkPdyYNquuzuUoBorhfuZWM3EOe07_aGJNOshH30n9JMZe4\n",
            "\n",
            "Successfully saved authorization token.\n"
          ]
        }
      ],
      "source": [
        "import ee\n",
        "ee.Authenticate()\n",
        "ee.Initialize()"
      ]
    },
    {
      "cell_type": "markdown",
      "metadata": {
        "id": "1htUCSlsOajh"
      },
      "source": [
        "Import the LandsatLinkr library from GitHub. This allows us to call the imported functions directly. "
      ]
    },
    {
      "cell_type": "code",
      "execution_count": null,
      "metadata": {
        "id": "oSXgOmkYGcQO"
      },
      "outputs": [],
      "source": [
        "!rm -f -r /content/ee-LandsatLinkr\n",
        "!git clone https://github.com/gee-community/ee-LandsatLinkr --quiet\n",
        "import sys\n",
        "sys.path.append(\"/content/ee-LandsatLinkr\")\n",
        "from landsatlinkr import *"
      ]
    },
    {
      "cell_type": "markdown",
      "metadata": {
        "id": "P4fR8xWSKj8Z"
      },
      "source": [
        "## **Identity MSS WRS-1 Tile ID(s)**\n",
        "\n",
        "---\n",
        "\n",
        "First, we have to determine which WRS-1 tile we’ll be working with. WRS-1 tile IDs refer to the image footprints of the MSS sensor.\n",
        "\n",
        "1. Open this EE script: https://code.earthengine.google.com/463f6aef9f6db3c248068bc0c6d9a530?hideCode=true \n",
        "2. In the map, zoom to your study area and select its location to reveal the WRS-1 tile IDs at that location (this may take a minute or two to load)\n",
        "3. Copy the WRS-1 tile ID from the pop-up window and paste this WRS-1 tile ID into your run script as the **```WRS_1_GRANULE```** variable below\n",
        "\n",
        "*If your study area overlaps with two or more tile footprints, you should note all of the WRS-1 tile IDs and process as many tiles that intersect the study region one at a time – the results can be composited later. For now, select one WRS-1 tile ID to begin with (you can only process one tile ID at a time).*"
      ]
    },
    {
      "cell_type": "code",
      "execution_count": null,
      "metadata": {
        "id": "vPcdzuQdH8p0"
      },
      "outputs": [],
      "source": [
        "WRS_1_GRANULE =  '047034'"
      ]
    },
    {
      "cell_type": "markdown",
      "metadata": {
        "id": "hnsSQ7REP0eW"
      },
      "source": [
        "## **Create Asset Folders**\n",
        "\n",
        "---\n",
        "\n",
        "The LandsatLinkr workflow currently exports assets to your Earth Engine account to store the intermediate and final processing results. LandsatLinkr therefore requires a specific folder structure to run and the function **`createProjectDir`** will create this structure once you have updated the **`PROJECT_DIR`** variable to indicate your assets folder. \n",
        "\n",
        "\n",
        "1. Create an asset folder called ‘LandsatLinkr’ to organize all of your LLR projects in one place (each tile ID will generate a new subfolder). Head to the Assets tab of the [EE Code Editor](https://code.earthengine.google.com/) to make this folder.\n",
        "\n",
        "> If you have a [cloud-enabled project](https://developers.google.com/earth-engine/cloud), you’ll see two types of assets in your EE account: cloud project assets and legacy assets. The EE team is encouraging migration over to the cloud projects, so if you can, use your cloud project assets. \n",
        "\n",
        "> Your new nested folders should look like this (cloud): \n",
        "- `projects/[cloud_project]/assets/LandsatLinkr`\n",
        "\n",
        "> OR this (legacy): \n",
        "- `users/[username]/LandsatLinkr`\n",
        "\n",
        "\n",
        "2. Update the **`PROJECT_DIR`** variable to indicate **your** assets folder and run the code block below."
      ]
    },
    {
      "cell_type": "code",
      "execution_count": null,
      "metadata": {
        "id": "6BysCvTPOWyN"
      },
      "outputs": [],
      "source": [
        "# Cloud Project Asset Folder\n",
        "# PROJECT_DIR = 'projects/[cloud_project]/assets/LandsatLinkr'\n",
        "\n",
        "# Legacy Asset Folder\n",
        "# # PROJECT_DIR = 'users/[username]/LandsatLinkr'\n",
        "\n",
        "PROJECT_DIR = 'projects/ee-annalisertaylor/assets/LandsatLinkr'\n",
        "createProjectDir(PROJECT_DIR, WRS_1_GRANULE)"
      ]
    },
    {
      "cell_type": "markdown",
      "metadata": {
        "id": "C2fOKd_VQz8v"
      },
      "source": [
        "## **Set Imagery Parameters**\n",
        "\n",
        "---\n",
        "\n",
        "These parameters determine which Landsat images are included in our analysis.\n",
        "*   **CRS** controls the geographic projection of the outputs.\n",
        "*   **DOY_RANGE** filters the imagery by certain days of the year, 1 through 365. The final output of LLR is annual composites, so this variable controls which parts of the year are included in the composites. \n",
        "*   **MAX_CLOUD** (0 to 100) controls the maximum allowable percentage of cloudiness for the included images.\n",
        "*   **MAX_GEOM_RMSE** controls the maximum allowable spatial offset in units of a pixel."
      ]
    },
    {
      "cell_type": "code",
      "execution_count": null,
      "metadata": {
        "id": "i-xS5u88QxyL"
      },
      "outputs": [],
      "source": [
        "CRS = 'EPSG:3857'\n",
        "DOY_RANGE = [160, 254]\n",
        "MAX_CLOUD = 50\n",
        "MAX_GEOM_RMSE = 0.5\n",
        "\n",
        "# All of the parameters needed to run LandTrendr (final step)\n",
        "LT_params = {\n",
        "    # the bands you select here are the only ones you can then visualize as RGB\n",
        "    # all choices: 'blue', 'green', 'red', 'nir', 'swir1', 'swir2', 'ndvi',\n",
        "    #   'tcb' (tasseled cap brightness), 'tcg' (tasseled cap greenness),\n",
        "    #   'tcw' (tasseled cap wetness), and 'tca’ (tasseled cap angle).\n",
        "    'ftvBands': ['red', 'green', 'blue'], \n",
        "    'maxSegments': 10,\n",
        "    'spikeThreshold': 0.7,\n",
        "    'vertexCountOvershoot': None,\n",
        "    'preventOneYearRecovery': None,\n",
        "    'recoveryThreshold': 0.5,\n",
        "    'pvalThreshold': None,\n",
        "    'bestModelProportion': None,\n",
        "    'minObservationsNeeded': None,\n",
        "    'scale': 30\n",
        "}\n",
        "\n",
        "# All of the parameters needed to run LandsatLinkr\n",
        "LLR_params = {\n",
        "  'maxRmseVerify': MAX_GEOM_RMSE,\n",
        "  'maxCloudCover': MAX_CLOUD,\n",
        "  'doyRange': DOY_RANGE,\n",
        "  'wrs1': WRS_1_GRANULE,\n",
        "  'crs': CRS,\n",
        "  'excludeIds': [],\n",
        "  'baseDir': PROJECT_DIR + '/' + WRS_1_GRANULE,\n",
        "  'projectDir': PROJECT_DIR,\n",
        "  'ltParams': LT_params,\n",
        "  'correctOffset': True,\n",
        "  'mssResample': 'nearest',\n",
        "  'mssScale': 30\n",
        "}"
      ]
    },
    {
      "cell_type": "markdown",
      "metadata": {
        "id": "UyFooaFAhOye"
      },
      "source": [
        "## **Preview and Filter MSS Images**\n",
        "\n",
        "---\n",
        "\n",
        "\n",
        "This step will print thumbnails of all of the available MSS images based on your parameters so that you can assess image quality and remove the bad images from your image collection. This step will result in an updated **`EXCLUDE_IDs`** variable, and can take between 10 to 30 minutes depending on the number of images available.\n",
        "\n",
        "Preview MSS WRS-1 images, note bad images and add them to the **`EXCLUDE_IDS`** list. Run until all bad images are removed."
      ]
    },
    {
      "cell_type": "code",
      "execution_count": null,
      "metadata": {
        "colab": {
          "base_uri": "https://localhost:8080/",
          "height": 1000
        },
        "id": "nzCpb0k7g_Jy",
        "outputId": "07bdd62c-fef1-4846-c511-c748dc8db649"
      },
      "outputs": [
        {
          "output_type": "stream",
          "name": "stdout",
          "text": [
            "Please wait patiently, images may not load immediately\n",
            "\n",
            "Date: 1972-07-26 | Scene ID: LM10470341972208GDS03\n"
          ]
        },
        {
          "output_type": "display_data",
          "data": {
            "text/html": [
              "<img src=\"https://earthengine.googleapis.com/v1alpha/projects/earthengine-legacy/thumbnails/465be06d550cad9e5ea074b6ccb37bff-298ca950a313d1ffbe0db75594e50569:getPixels\"/>"
            ],
            "text/plain": [
              "<IPython.core.display.Image object>"
            ]
          },
          "metadata": {}
        },
        {
          "output_type": "stream",
          "name": "stdout",
          "text": [
            "\n",
            "\n",
            "Date: 1972-08-13 | Scene ID: LM10470341972226AAA05\n"
          ]
        },
        {
          "output_type": "display_data",
          "data": {
            "text/html": [
              "<img src=\"https://earthengine.googleapis.com/v1alpha/projects/earthengine-legacy/thumbnails/767809075e61f9034a246a1ff83aab0f-5e529acebdce0079a9160f90b41744b0:getPixels\"/>"
            ],
            "text/plain": [
              "<IPython.core.display.Image object>"
            ]
          },
          "metadata": {}
        },
        {
          "output_type": "stream",
          "name": "stdout",
          "text": [
            "\n",
            "\n",
            "Date: 1972-08-31 | Scene ID: LM10470341972244AAA02\n"
          ]
        },
        {
          "output_type": "display_data",
          "data": {
            "text/html": [
              "<img src=\"https://earthengine.googleapis.com/v1alpha/projects/earthengine-legacy/thumbnails/09aad7f7f3f2e47728bad5ea8cbf6c17-f3e6857429462f9120a2dd71309bbe42:getPixels\"/>"
            ],
            "text/plain": [
              "<IPython.core.display.Image object>"
            ]
          },
          "metadata": {}
        },
        {
          "output_type": "stream",
          "name": "stdout",
          "text": [
            "\n",
            "\n",
            "Date: 1974-06-10 | Scene ID: LM10470341974161AAA02\n"
          ]
        },
        {
          "output_type": "display_data",
          "data": {
            "text/html": [
              "<img src=\"https://earthengine.googleapis.com/v1alpha/projects/earthengine-legacy/thumbnails/7fe3cedba6594f9e46b2767a274c0685-cfc7c31df43f549788a4be945470ea13:getPixels\"/>"
            ],
            "text/plain": [
              "<IPython.core.display.Image object>"
            ]
          },
          "metadata": {}
        },
        {
          "output_type": "stream",
          "name": "stdout",
          "text": [
            "\n",
            "\n",
            "Date: 1974-06-28 | Scene ID: LM10470341974179AAA05\n"
          ]
        },
        {
          "output_type": "display_data",
          "data": {
            "text/html": [
              "<img src=\"https://earthengine.googleapis.com/v1alpha/projects/earthengine-legacy/thumbnails/3aca796df35d7eb60f337b97deb9e4ee-a257f58979a4fd01a4cca6e8ba666348:getPixels\"/>"
            ],
            "text/plain": [
              "<IPython.core.display.Image object>"
            ]
          },
          "metadata": {}
        },
        {
          "output_type": "stream",
          "name": "stdout",
          "text": [
            "\n",
            "\n",
            "Date: 1974-07-16 | Scene ID: LM10470341974197AAA04\n"
          ]
        },
        {
          "output_type": "display_data",
          "data": {
            "text/html": [
              "<img src=\"https://earthengine.googleapis.com/v1alpha/projects/earthengine-legacy/thumbnails/df2039bf2a2cc6c7928f2edafbc0ac24-d23ae05bca2a23fc000a9ee6382c0f6b:getPixels\"/>"
            ],
            "text/plain": [
              "<IPython.core.display.Image object>"
            ]
          },
          "metadata": {}
        },
        {
          "output_type": "stream",
          "name": "stdout",
          "text": [
            "\n",
            "\n",
            "Date: 1975-07-20 | Scene ID: LM20470341975201GDS03\n"
          ]
        },
        {
          "output_type": "display_data",
          "data": {
            "text/html": [
              "<img src=\"https://earthengine.googleapis.com/v1alpha/projects/earthengine-legacy/thumbnails/cac2d7488611459d2839210aea8a6e60-f912a4604925b624818627ede1212bc4:getPixels\"/>"
            ],
            "text/plain": [
              "<IPython.core.display.Image object>"
            ]
          },
          "metadata": {}
        },
        {
          "output_type": "stream",
          "name": "stdout",
          "text": [
            "\n",
            "\n",
            "Date: 1975-08-07 | Scene ID: LM20470341975219AAA05\n"
          ]
        },
        {
          "output_type": "display_data",
          "data": {
            "text/html": [
              "<img src=\"https://earthengine.googleapis.com/v1alpha/projects/earthengine-legacy/thumbnails/59afe3e34379d4d25d50ff42c0b041d0-8d40ff8af196498a4df70cc28fff2cca:getPixels\"/>"
            ],
            "text/plain": [
              "<IPython.core.display.Image object>"
            ]
          },
          "metadata": {}
        },
        {
          "output_type": "stream",
          "name": "stdout",
          "text": [
            "\n",
            "\n",
            "Date: 1975-09-03 | Scene ID: LM10470341975246AAA05\n"
          ]
        },
        {
          "output_type": "display_data",
          "data": {
            "text/html": [
              "<img src=\"https://earthengine.googleapis.com/v1alpha/projects/earthengine-legacy/thumbnails/43f738ca634923613f069365a613db63-f1818b905b61715cb39515b46eccfe4c:getPixels\"/>"
            ],
            "text/plain": [
              "<IPython.core.display.Image object>"
            ]
          },
          "metadata": {}
        },
        {
          "output_type": "stream",
          "name": "stdout",
          "text": [
            "\n",
            "\n",
            "Date: 1976-06-26 | Scene ID: LM20470341976178AAA06\n"
          ]
        },
        {
          "output_type": "display_data",
          "data": {
            "text/html": [
              "<img src=\"https://earthengine.googleapis.com/v1alpha/projects/earthengine-legacy/thumbnails/703f21dd66a8ef1746fa2273997a0b31-16a2670a5ec8269c25f59f261bc8f7fe:getPixels\"/>"
            ],
            "text/plain": [
              "<IPython.core.display.Image object>"
            ]
          },
          "metadata": {}
        },
        {
          "output_type": "stream",
          "name": "stdout",
          "text": [
            "\n",
            "\n",
            "Date: 1976-07-23 | Scene ID: LM10470341976205AAA05\n"
          ]
        },
        {
          "output_type": "display_data",
          "data": {
            "text/html": [
              "<img src=\"https://earthengine.googleapis.com/v1alpha/projects/earthengine-legacy/thumbnails/5ff93fba6d250e858b6da8e10a296ac8-ba820c5127e72b4702d052017518c61b:getPixels\"/>"
            ],
            "text/plain": [
              "<IPython.core.display.Image object>"
            ]
          },
          "metadata": {}
        },
        {
          "output_type": "stream",
          "name": "stdout",
          "text": [
            "\n",
            "\n",
            "Date: 1976-08-10 | Scene ID: LM10470341976223GDS03\n"
          ]
        },
        {
          "output_type": "display_data",
          "data": {
            "text/html": [
              "<img src=\"https://earthengine.googleapis.com/v1alpha/projects/earthengine-legacy/thumbnails/01dfff719bc7ead53a28c1cd52858d98-4660c2a99ccd03d09851361745d43dd5:getPixels\"/>"
            ],
            "text/plain": [
              "<IPython.core.display.Image object>"
            ]
          },
          "metadata": {}
        },
        {
          "output_type": "stream",
          "name": "stdout",
          "text": [
            "\n",
            "\n",
            "Date: 1976-09-06 | Scene ID: LM20470341976250GDS03\n"
          ]
        },
        {
          "output_type": "display_data",
          "data": {
            "text/html": [
              "<img src=\"https://earthengine.googleapis.com/v1alpha/projects/earthengine-legacy/thumbnails/64bcf54186378f6f53951e1ab08c7789-d30a9ab33d51f9ded7b293e6adb75f95:getPixels\"/>"
            ],
            "text/plain": [
              "<IPython.core.display.Image object>"
            ]
          },
          "metadata": {}
        },
        {
          "output_type": "stream",
          "name": "stdout",
          "text": [
            "\n",
            "\n",
            "Date: 1977-06-21 | Scene ID: LM20470341977172AAA04\n"
          ]
        },
        {
          "output_type": "display_data",
          "data": {
            "text/html": [
              "<img src=\"https://earthengine.googleapis.com/v1alpha/projects/earthengine-legacy/thumbnails/f3db1b8c249ba0cf50aea71a45d92b87-73579dbd1c6e6a1cf125fd5d9ee2d94f:getPixels\"/>"
            ],
            "text/plain": [
              "<IPython.core.display.Image object>"
            ]
          },
          "metadata": {}
        },
        {
          "output_type": "stream",
          "name": "stdout",
          "text": [
            "\n",
            "\n",
            "Date: 1977-07-09 | Scene ID: LM20470341977190GDS04\n"
          ]
        },
        {
          "output_type": "display_data",
          "data": {
            "text/html": [
              "<img src=\"https://earthengine.googleapis.com/v1alpha/projects/earthengine-legacy/thumbnails/ee5a4d5a013bcbd1727699e297ab0a1e-5612c52990f3dd141daa2bda20935352:getPixels\"/>"
            ],
            "text/plain": [
              "<IPython.core.display.Image object>"
            ]
          },
          "metadata": {}
        },
        {
          "output_type": "stream",
          "name": "stdout",
          "text": [
            "\n",
            "\n",
            "Date: 1977-07-27 | Scene ID: LM20470341977208AAA05\n"
          ]
        },
        {
          "output_type": "display_data",
          "data": {
            "text/html": [
              "<img src=\"https://earthengine.googleapis.com/v1alpha/projects/earthengine-legacy/thumbnails/970fd8db833e2fd1d45edcbc6364ac52-c0ddb5fafa7abdbc29a90af0634b653c:getPixels\"/>"
            ],
            "text/plain": [
              "<IPython.core.display.Image object>"
            ]
          },
          "metadata": {}
        },
        {
          "output_type": "stream",
          "name": "stdout",
          "text": [
            "\n",
            "\n",
            "Date: 1977-08-14 | Scene ID: LM20470341977226AAA05\n"
          ]
        },
        {
          "output_type": "display_data",
          "data": {
            "text/html": [
              "<img src=\"https://earthengine.googleapis.com/v1alpha/projects/earthengine-legacy/thumbnails/ecaa7ef43c57ad018a82fbe32c8ceb02-ea6d9f594ae32c9ca24f6ff5030db97e:getPixels\"/>"
            ],
            "text/plain": [
              "<IPython.core.display.Image object>"
            ]
          },
          "metadata": {}
        },
        {
          "output_type": "stream",
          "name": "stdout",
          "text": [
            "\n",
            "\n",
            "Date: 1977-09-01 | Scene ID: LM20470341977244GDS03\n"
          ]
        },
        {
          "output_type": "display_data",
          "data": {
            "text/html": [
              "<img src=\"https://earthengine.googleapis.com/v1alpha/projects/earthengine-legacy/thumbnails/34b3af4ab027edfce90969c9957e3e1f-16e54af58df7342452a5359b9784220a:getPixels\"/>"
            ],
            "text/plain": [
              "<IPython.core.display.Image object>"
            ]
          },
          "metadata": {}
        },
        {
          "output_type": "stream",
          "name": "stdout",
          "text": [
            "\n",
            "\n",
            "Date: 1978-06-16 | Scene ID: LM20470341978167AAA02\n"
          ]
        },
        {
          "output_type": "display_data",
          "data": {
            "text/html": [
              "<img src=\"https://earthengine.googleapis.com/v1alpha/projects/earthengine-legacy/thumbnails/e05ef85226ed3944eff417f961756a9b-5e5463a9ccfb134e54db2686e450f588:getPixels\"/>"
            ],
            "text/plain": [
              "<IPython.core.display.Image object>"
            ]
          },
          "metadata": {}
        },
        {
          "output_type": "stream",
          "name": "stdout",
          "text": [
            "\n",
            "\n",
            "Date: 1978-06-25 | Scene ID: LM30470341978176GDS04\n"
          ]
        },
        {
          "output_type": "display_data",
          "data": {
            "text/html": [
              "<img src=\"https://earthengine.googleapis.com/v1alpha/projects/earthengine-legacy/thumbnails/5f7938ad435ff8ef8043a5c4a2ef622e-2e5712189c5fe0ac56633161d9dc02e6:getPixels\"/>"
            ],
            "text/plain": [
              "<IPython.core.display.Image object>"
            ]
          },
          "metadata": {}
        },
        {
          "output_type": "stream",
          "name": "stdout",
          "text": [
            "\n",
            "\n",
            "Date: 1978-07-04 | Scene ID: LM20470341978185AAA02\n"
          ]
        },
        {
          "output_type": "display_data",
          "data": {
            "text/html": [
              "<img src=\"https://earthengine.googleapis.com/v1alpha/projects/earthengine-legacy/thumbnails/042ea9b00a4757c3da61f645ba679792-ed8359655c60af57217e8663ffdcf33a:getPixels\"/>"
            ],
            "text/plain": [
              "<IPython.core.display.Image object>"
            ]
          },
          "metadata": {}
        },
        {
          "output_type": "stream",
          "name": "stdout",
          "text": [
            "\n",
            "\n",
            "Date: 1978-07-13 | Scene ID: LM30470341978194GDS03\n"
          ]
        },
        {
          "output_type": "display_data",
          "data": {
            "text/html": [
              "<img src=\"https://earthengine.googleapis.com/v1alpha/projects/earthengine-legacy/thumbnails/37b87cc896adf3635e9379aeef811eb3-a58b2d1862f6180109c7576169383461:getPixels\"/>"
            ],
            "text/plain": [
              "<IPython.core.display.Image object>"
            ]
          },
          "metadata": {}
        },
        {
          "output_type": "stream",
          "name": "stdout",
          "text": [
            "\n",
            "\n",
            "Date: 1978-07-22 | Scene ID: LM20470341978203AAA02\n"
          ]
        },
        {
          "output_type": "display_data",
          "data": {
            "text/html": [
              "<img src=\"https://earthengine.googleapis.com/v1alpha/projects/earthengine-legacy/thumbnails/3534376c8368ee3acc0fce53b7789770-9dfd2121a6815bc15cc844636adf77e9:getPixels\"/>"
            ],
            "text/plain": [
              "<IPython.core.display.Image object>"
            ]
          },
          "metadata": {}
        },
        {
          "output_type": "stream",
          "name": "stdout",
          "text": [
            "\n",
            "\n",
            "Date: 1978-07-31 | Scene ID: LM30470341978212GDS03\n"
          ]
        },
        {
          "output_type": "display_data",
          "data": {
            "text/html": [
              "<img src=\"https://earthengine.googleapis.com/v1alpha/projects/earthengine-legacy/thumbnails/5da4a6d1e231b9d3e21c2b5777ed155e-5b8b9735f026159c8c9c081f891770bb:getPixels\"/>"
            ],
            "text/plain": [
              "<IPython.core.display.Image object>"
            ]
          },
          "metadata": {}
        },
        {
          "output_type": "stream",
          "name": "stdout",
          "text": [
            "\n",
            "\n",
            "Date: 1978-08-09 | Scene ID: LM20470341978221AAA02\n"
          ]
        },
        {
          "output_type": "display_data",
          "data": {
            "text/html": [
              "<img src=\"https://earthengine.googleapis.com/v1alpha/projects/earthengine-legacy/thumbnails/1e33acb8ff6ac0c95a4177983a755fbf-21d4b04be0c7a11636446dd2810c9041:getPixels\"/>"
            ],
            "text/plain": [
              "<IPython.core.display.Image object>"
            ]
          },
          "metadata": {}
        },
        {
          "output_type": "stream",
          "name": "stdout",
          "text": [
            "\n",
            "\n",
            "Date: 1978-08-18 | Scene ID: LM30470341978230AAA05\n"
          ]
        },
        {
          "output_type": "display_data",
          "data": {
            "text/html": [
              "<img src=\"https://earthengine.googleapis.com/v1alpha/projects/earthengine-legacy/thumbnails/6bb717e0765ba13981ba978059e70dcb-781d658cf8d9379165de5c1e11b30ddf:getPixels\"/>"
            ],
            "text/plain": [
              "<IPython.core.display.Image object>"
            ]
          },
          "metadata": {}
        },
        {
          "output_type": "stream",
          "name": "stdout",
          "text": [
            "\n",
            "\n",
            "Date: 1978-08-27 | Scene ID: LM20470341978239AAA02\n"
          ]
        },
        {
          "output_type": "display_data",
          "data": {
            "text/html": [
              "<img src=\"https://earthengine.googleapis.com/v1alpha/projects/earthengine-legacy/thumbnails/14c832ec20e21e85cf27ace17c143f91-78cdfbec38f6017cdd8bbfa39662d615:getPixels\"/>"
            ],
            "text/plain": [
              "<IPython.core.display.Image object>"
            ]
          },
          "metadata": {}
        },
        {
          "output_type": "stream",
          "name": "stdout",
          "text": [
            "\n",
            "\n",
            "Date: 1979-06-11 | Scene ID: LM20470341979162AAA05\n"
          ]
        },
        {
          "output_type": "display_data",
          "data": {
            "text/html": [
              "<img src=\"https://earthengine.googleapis.com/v1alpha/projects/earthengine-legacy/thumbnails/7cf6a85f17493698fd1ddee5091b1ea8-89c6687ffb19aa25a2119a871ba7408a:getPixels\"/>"
            ],
            "text/plain": [
              "<IPython.core.display.Image object>"
            ]
          },
          "metadata": {}
        },
        {
          "output_type": "stream",
          "name": "stdout",
          "text": [
            "\n",
            "\n",
            "Date: 1979-07-26 | Scene ID: LM30470341979207AAA02\n"
          ]
        },
        {
          "output_type": "display_data",
          "data": {
            "text/html": [
              "<img src=\"https://earthengine.googleapis.com/v1alpha/projects/earthengine-legacy/thumbnails/1642d7a753fad88b22544d5e94397d5e-8ec5afaf5e4bff49d1c52cb56b6d74f2:getPixels\"/>"
            ],
            "text/plain": [
              "<IPython.core.display.Image object>"
            ]
          },
          "metadata": {}
        },
        {
          "output_type": "stream",
          "name": "stdout",
          "text": [
            "\n",
            "\n",
            "Date: 1979-08-04 | Scene ID: LM20470341979216XXX01\n"
          ]
        },
        {
          "output_type": "display_data",
          "data": {
            "text/html": [
              "<img src=\"https://earthengine.googleapis.com/v1alpha/projects/earthengine-legacy/thumbnails/b9661f36f08cd2c2c6893a46fa079be6-bf370f8ed1bf25c4e3d5ff15c4b2b75d:getPixels\"/>"
            ],
            "text/plain": [
              "<IPython.core.display.Image object>"
            ]
          },
          "metadata": {}
        },
        {
          "output_type": "stream",
          "name": "stdout",
          "text": [
            "\n",
            "\n",
            "Date: 1979-09-09 | Scene ID: LM20470341979252GDS02\n"
          ]
        },
        {
          "output_type": "display_data",
          "data": {
            "text/html": [
              "<img src=\"https://earthengine.googleapis.com/v1alpha/projects/earthengine-legacy/thumbnails/74229d362c8eec1df47dccd3fcd74a30-7fdee6703920a500fd917157ee4d1e58:getPixels\"/>"
            ],
            "text/plain": [
              "<IPython.core.display.Image object>"
            ]
          },
          "metadata": {}
        },
        {
          "output_type": "stream",
          "name": "stdout",
          "text": [
            "\n",
            "\n",
            "Date: 1980-07-11 | Scene ID: LM20470341980193AAA06\n"
          ]
        },
        {
          "output_type": "display_data",
          "data": {
            "text/html": [
              "<img src=\"https://earthengine.googleapis.com/v1alpha/projects/earthengine-legacy/thumbnails/63b51c01b20832c24c2e4edda02e59c8-ba732e1d0bd9dbca999471feb42c92fa:getPixels\"/>"
            ],
            "text/plain": [
              "<IPython.core.display.Image object>"
            ]
          },
          "metadata": {}
        },
        {
          "output_type": "stream",
          "name": "stdout",
          "text": [
            "\n",
            "\n",
            "Date: 1980-07-29 | Scene ID: LM20470341980211AAA10\n"
          ]
        },
        {
          "output_type": "display_data",
          "data": {
            "text/html": [
              "<img src=\"https://earthengine.googleapis.com/v1alpha/projects/earthengine-legacy/thumbnails/77b11d9ab151fbbd50e84db83f6cff2a-459a1c4c70ca895697526ae28e2ac918:getPixels\"/>"
            ],
            "text/plain": [
              "<IPython.core.display.Image object>"
            ]
          },
          "metadata": {}
        },
        {
          "output_type": "stream",
          "name": "stdout",
          "text": [
            "\n",
            "\n",
            "Date: 1980-08-07 | Scene ID: LM30470341980220AAA03\n"
          ]
        },
        {
          "output_type": "display_data",
          "data": {
            "text/html": [
              "<img src=\"https://earthengine.googleapis.com/v1alpha/projects/earthengine-legacy/thumbnails/9f0ab54a536a2282bdb7bb5010f556be-1d16770b549041d5c00b8300e25b2505:getPixels\"/>"
            ],
            "text/plain": [
              "<IPython.core.display.Image object>"
            ]
          },
          "metadata": {}
        },
        {
          "output_type": "stream",
          "name": "stdout",
          "text": [
            "\n",
            "\n",
            "Date: 1980-08-16 | Scene ID: LM20470341980229AAA06\n"
          ]
        },
        {
          "output_type": "display_data",
          "data": {
            "text/html": [
              "<img src=\"https://earthengine.googleapis.com/v1alpha/projects/earthengine-legacy/thumbnails/90804aea838a8c039bb4c3288e700c21-d3badc0176f1dd9f41dbbe57651a4591:getPixels\"/>"
            ],
            "text/plain": [
              "<IPython.core.display.Image object>"
            ]
          },
          "metadata": {}
        },
        {
          "output_type": "stream",
          "name": "stdout",
          "text": [
            "\n",
            "\n",
            "Date: 1981-07-06 | Scene ID: LM20470341981187AAA09\n"
          ]
        },
        {
          "output_type": "display_data",
          "data": {
            "text/html": [
              "<img src=\"https://earthengine.googleapis.com/v1alpha/projects/earthengine-legacy/thumbnails/f5f522346757e22a63cb2f35743dc2e6-6d34b18bb272d7a01850b4cc82ec44e6:getPixels\"/>"
            ],
            "text/plain": [
              "<IPython.core.display.Image object>"
            ]
          },
          "metadata": {}
        },
        {
          "output_type": "stream",
          "name": "stdout",
          "text": [
            "\n",
            "\n",
            "Date: 1981-07-24 | Scene ID: LM20470341981205AAA03\n"
          ]
        },
        {
          "output_type": "display_data",
          "data": {
            "text/html": [
              "<img src=\"https://earthengine.googleapis.com/v1alpha/projects/earthengine-legacy/thumbnails/c3d6aa3d0138d940dee4d865a12f5b89-7c70f15cf9d88f0e17e5910fe27caba7:getPixels\"/>"
            ],
            "text/plain": [
              "<IPython.core.display.Image object>"
            ]
          },
          "metadata": {}
        },
        {
          "output_type": "stream",
          "name": "stdout",
          "text": [
            "\n",
            "\n",
            "Date: 1981-08-11 | Scene ID: LM20470341981223AAA03\n"
          ]
        },
        {
          "output_type": "display_data",
          "data": {
            "text/html": [
              "<img src=\"https://earthengine.googleapis.com/v1alpha/projects/earthengine-legacy/thumbnails/ef48e5a913541be44fe66d517d53ba11-b8c025f90b4abaa18bfb2617d2c8a9cd:getPixels\"/>"
            ],
            "text/plain": [
              "<IPython.core.display.Image object>"
            ]
          },
          "metadata": {}
        },
        {
          "output_type": "stream",
          "name": "stdout",
          "text": [
            "\n",
            "\n",
            "Date: 1982-06-22 | Scene ID: LM30470341982173AAA08\n"
          ]
        },
        {
          "output_type": "display_data",
          "data": {
            "text/html": [
              "<img src=\"https://earthengine.googleapis.com/v1alpha/projects/earthengine-legacy/thumbnails/ac4845044753c84c68c1036a45a7d121-377748cd4205f317e41b1e331c15ba8c:getPixels\"/>"
            ],
            "text/plain": [
              "<IPython.core.display.Image object>"
            ]
          },
          "metadata": {}
        },
        {
          "output_type": "stream",
          "name": "stdout",
          "text": [
            "\n",
            "\n",
            "Date: 1982-07-10 | Scene ID: LM30470341982191XXX01\n"
          ]
        },
        {
          "output_type": "display_data",
          "data": {
            "text/html": [
              "<img src=\"https://earthengine.googleapis.com/v1alpha/projects/earthengine-legacy/thumbnails/ba3eb5408b4a7ae61eca985916efb00b-39538e87fb84d065c254985ee5da01b9:getPixels\"/>"
            ],
            "text/plain": [
              "<IPython.core.display.Image object>"
            ]
          },
          "metadata": {}
        },
        {
          "output_type": "stream",
          "name": "stdout",
          "text": [
            "\n",
            "\n",
            "Date: 1982-08-15 | Scene ID: LM30470341982227AAA03\n"
          ]
        },
        {
          "output_type": "display_data",
          "data": {
            "text/html": [
              "<img src=\"https://earthengine.googleapis.com/v1alpha/projects/earthengine-legacy/thumbnails/d81e27fc436ab505b2df617becc25a3a-22c0bc7a11e3553c64b7bae5249d2ebf:getPixels\"/>"
            ],
            "text/plain": [
              "<IPython.core.display.Image object>"
            ]
          },
          "metadata": {}
        },
        {
          "output_type": "stream",
          "name": "stdout",
          "text": [
            "\n",
            "\n"
          ]
        }
      ],
      "source": [
        "# Uncomment these two lines to re-run with your bad image IDs removed\n",
        "# EXCLUDE_IDS = []\n",
        "# LLR_params['excludeIds'] = EXCLUDE_IDS\n",
        "\n",
        "viewWrs1Col(LLR_params)"
      ]
    },
    {
      "cell_type": "code",
      "execution_count": null,
      "metadata": {
        "id": "Y9zEeJqnlQSC"
      },
      "outputs": [],
      "source": [
        "EXCLUDE_IDS = [\n",
        "    'LM10470341972208GDS03',\n",
        "    'LM10470341972244AAA02',\n",
        "    'LM10470341974161AAA02',\n",
        "    'LM10470341974197AAA04',\n",
        "    'LM20470341975201GDS03',\n",
        "    'LM10470341976205AAA05',\n",
        "    'LM10470341976223GDS03',\n",
        "    'LM20470341976250GDS03',\n",
        "    'LM20470341977190GDS04',\n",
        "    'LM30470341978194GDS03',\n",
        "    'LM20470341977226AAA05',\n",
        "    'LM20470341977244GDS03',\n",
        "    'LM20470341978185AAA02',\n",
        "    'LM20470341978203AAA02',\n",
        "    'LM30470341978212GDS03',\n",
        "    'LM20470341978221AAA02',\n",
        "    'LM20470341978239AAA02',\n",
        "    'LM30470341979207AAA02',\n",
        "    'LM20470341979216XXX01',\n",
        "    'LM20470341980211AAA10',\n",
        "    'LM30470341980220AAA03',\n",
        "    'LM20470341980229AAA06',\n",
        "    'LM20470341981205AAA03',\n",
        "    'LM20470341981223AAA03',\n",
        "    'LM30470341982173AAA08',\n",
        "    'LM30470341982227AAA03'\n",
        "]\n",
        "\n",
        "LLR_params['excludeIds'] = EXCLUDE_IDS"
      ]
    },
    {
      "cell_type": "markdown",
      "metadata": {
        "id": "35iL-UTkSs8L"
      },
      "source": [
        "## **Prepare the MSS Imagery**\n",
        "---\n",
        "\n",
        "**First**, we’ll create an MSS reference image. This reference image will be used for spectral normalization, as some of the sensors are inconsistent. This step will run a task that creates an image named 'ref' in your project's asset folder. This should take roughly 10 to 15 minutes. Once the task is completed (the word 'COMPLETED' will print below) and you see an image called 'ref' in your project's asset folder, you can move onto the next step.\n"
      ]
    },
    {
      "cell_type": "code",
      "execution_count": null,
      "metadata": {
        "colab": {
          "background_save": true,
          "base_uri": "https://localhost:8080/"
        },
        "id": "5VZqecuOSsSl",
        "outputId": "b079f690-b52d-4ebf-f978-96b40e42a701"
      },
      "outputs": [
        {
          "name": "stdout",
          "output_type": "stream",
          "text": [
            "Exporting MSS 2nd Gen reference image, please wait.\n",
            "projects/ee-annalisertaylor/assets/LandsatLinkr/047034/ref\n",
            "COMPLETED\n"
          ]
        }
      ],
      "source": [
        "mssRefTask = exportMssRefImg(LLR_params)\n",
        "monitorTaskStatus(mssRefTask)"
      ]
    },
    {
      "cell_type": "markdown",
      "metadata": {
        "id": "uR7I7uwftW0m"
      },
      "source": [
        "**Next**, we’ll correct each included MSS image to that reference image **`ref`**. After running the block below, all of the selected MSS imagery will be harmonized within the MSS time series. This function runs a task to export a stack of annual composite images that are based on the mediod for each year, which is saved as **`MSS_WRS1_to_WRS2_stack`** in the asset folder that was created earlier. This step can take between 10 and 25 minutes. Once the task is completed, you can move onto the next step.\n"
      ]
    },
    {
      "cell_type": "code",
      "execution_count": null,
      "metadata": {
        "colab": {
          "base_uri": "https://localhost:8080/"
        },
        "id": "V-0lbJNxtZJA",
        "outputId": "de232ff7-2416-4218-f9fd-5e0a0619e99c"
      },
      "outputs": [
        {
          "name": "stdout",
          "output_type": "stream",
          "text": [
            "Exporting annual MSS composites that match the MSS 2nd Gen reference image, please wait.\n",
            "Year: 1972\n",
            "Year: 1973\n",
            "  no images, exporting placeholder\n",
            "Year: 1974\n",
            "Year: 1975\n",
            "Year: 1976\n",
            "Year: 1977\n",
            "Year: 1978\n",
            "Year: 1979\n",
            "Year: 1980\n",
            "Year: 1981\n",
            "Year: 1982\n",
            "Year: 1983\n",
            "projects/ee-annalisertaylor/assets/LandsatLinkr/047034/MSS_WRS1_to_WRS2_stack\n",
            "COMPLETED\n"
          ]
        }
      ],
      "source": [
        "mssWrs1ToWrs2Task = processMssWrs1Imgs(LLR_params)\n",
        "monitorTaskStatus(mssWrs1ToWrs2Task)"
      ]
    },
    {
      "cell_type": "markdown",
      "metadata": {
        "id": "Kpr75NIp-aEY"
      },
      "source": [
        "## **Harmonize MSS Images to TM**\n",
        "\n",
        "---\n",
        "\n",
        "**First**, the function **`exportMss2TmCoefCol`** aggregates a  stratified random sample of pixels from coincident (collected simultaneously) MSS-TM image pairs. The resulting table (exported as an asset) is used to build a Random Forest (RF) regression model linking MSS imagery to TM imagery. This function will run a task that generates this table (**`mss_to_tm_coef_fc`**) and can take 10 to 20 minutes. Once this is completed you can move onto the next step.\n"
      ]
    },
    {
      "cell_type": "code",
      "execution_count": null,
      "metadata": {
        "colab": {
          "base_uri": "https://localhost:8080/"
        },
        "id": "fUOHSHEXQYat",
        "outputId": "527add9e-dd24-4ee5-90ec-95c44d698d90"
      },
      "outputs": [
        {
          "name": "stdout",
          "output_type": "stream",
          "text": [
            "Exporting MSS-to-TM model training sample, please wait.\n",
            "projects/ee-annalisertaylor/assets/LandsatLinkr/047034/mss_to_tm_coef_fc\n",
            "COMPLETED\n"
          ]
        }
      ],
      "source": [
        "mss2TmInfoTask = exportMss2TmCoefCol(LLR_params)\n",
        "monitorTaskStatus(mss2TmInfoTask)"
      ]
    },
    {
      "cell_type": "markdown",
      "metadata": {
        "id": "Mu6iqAo-y9Au"
      },
      "source": [
        "**Next**, the function **`exportMssOffset`** will use coincident MSS and TM WRS-2 images to calculate a per-pixel offset image. This ensures that the MSS imagery more closely match the TM values at each pixel. This step will run one task (**`MSS_offset`**) that takes 15 to 30 minutes."
      ]
    },
    {
      "cell_type": "code",
      "execution_count": null,
      "metadata": {
        "colab": {
          "base_uri": "https://localhost:8080/"
        },
        "id": "LMBaLJngzHwp",
        "outputId": "7c5f29b7-1102-401f-c2d1-d1f63f432810"
      },
      "outputs": [
        {
          "name": "stdout",
          "output_type": "stream",
          "text": [
            "Exporting median MSS to TM offset, please wait.\n",
            "projects/ee-annalisertaylor/assets/LandsatLinkr/047034/MSS_offset\n",
            "COMPLETED\n"
          ]
        }
      ],
      "source": [
        "mssOffsetTask = exportMssOffset(LLR_params)\n",
        "monitorTaskStatus(mssOffsetTask)"
      ]
    },
    {
      "cell_type": "markdown",
      "metadata": {
        "id": "AEMG1HHfFlgh"
      },
      "source": [
        "**Finally**, the function **`exportFinalCorrectedMssCol`** will harmonize the WRS-1 MSS images to the TM time series using the Random Forest regression model calculated in a previous step. This step will run one task (**`WRS1_to_TM_stack`**) that takes 15 to 45 minutes.\n",
        "*   Note that LandsatLinkr doesn't harmonize the WRS-2 (MSS) Landsat 4 and 5 images at all because there are coincident TM images which are preferred and used instead (except for 1983 when there are few TM images).\n",
        "\n",
        "Once the task is completed, you can move onto the next step.\n",
        "\n",
        "**We now have an MSS collection that is harmonized to TM!**"
      ]
    },
    {
      "cell_type": "code",
      "execution_count": null,
      "metadata": {
        "colab": {
          "base_uri": "https://localhost:8080/",
          "height": 339
        },
        "id": "0trxpDSHR3eE",
        "outputId": "5d049f25-bf19-4066-fb48-1543625b3bcf"
      },
      "outputs": [
        {
          "name": "stdout",
          "output_type": "stream",
          "text": [
            "Exporting annual MSS composites that match TM, please wait.\n",
            "projects/ee-annalisertaylor/assets/LandsatLinkr/047034/WRS1_to_TM_stack\n"
          ]
        },
        {
          "ename": "KeyboardInterrupt",
          "evalue": "ignored",
          "output_type": "error",
          "traceback": [
            "\u001b[0;31m---------------------------------------------------------------------------\u001b[0m",
            "\u001b[0;31mKeyboardInterrupt\u001b[0m                         Traceback (most recent call last)",
            "\u001b[0;32m<ipython-input-8-209f24b0dd41>\u001b[0m in \u001b[0;36m<module>\u001b[0;34m\u001b[0m\n\u001b[1;32m      1\u001b[0m \u001b[0mmss2TmTask\u001b[0m \u001b[0;34m=\u001b[0m \u001b[0mexportFinalCorrectedMssCol\u001b[0m\u001b[0;34m(\u001b[0m\u001b[0mLLR_params\u001b[0m\u001b[0;34m)\u001b[0m\u001b[0;34m\u001b[0m\u001b[0;34m\u001b[0m\u001b[0m\n\u001b[0;32m----> 2\u001b[0;31m \u001b[0mmonitorTaskStatus\u001b[0m\u001b[0;34m(\u001b[0m\u001b[0mmss2TmTask\u001b[0m\u001b[0;34m)\u001b[0m\u001b[0;34m\u001b[0m\u001b[0;34m\u001b[0m\u001b[0m\n\u001b[0m",
            "\u001b[0;32m/content/ee-LandsatLinkr/landsatlinkr.py\u001b[0m in \u001b[0;36mmonitorTaskStatus\u001b[0;34m(task)\u001b[0m\n\u001b[1;32m   1479\u001b[0m     \u001b[0mkeep_going\u001b[0m \u001b[0;34m=\u001b[0m \u001b[0;32mTrue\u001b[0m\u001b[0;34m\u001b[0m\u001b[0;34m\u001b[0m\u001b[0m\n\u001b[1;32m   1480\u001b[0m     \u001b[0;32mwhile\u001b[0m \u001b[0mkeep_going\u001b[0m\u001b[0;34m:\u001b[0m\u001b[0;34m\u001b[0m\u001b[0;34m\u001b[0m\u001b[0m\n\u001b[0;32m-> 1481\u001b[0;31m         \u001b[0mtime\u001b[0m\u001b[0;34m.\u001b[0m\u001b[0msleep\u001b[0m\u001b[0;34m(\u001b[0m\u001b[0;36m60\u001b[0m\u001b[0;34m)\u001b[0m\u001b[0;34m\u001b[0m\u001b[0;34m\u001b[0m\u001b[0m\n\u001b[0m\u001b[1;32m   1482\u001b[0m         \u001b[0mstate\u001b[0m \u001b[0;34m=\u001b[0m \u001b[0mtask\u001b[0m\u001b[0;34m.\u001b[0m\u001b[0mstatus\u001b[0m\u001b[0;34m(\u001b[0m\u001b[0;34m)\u001b[0m\u001b[0;34m[\u001b[0m\u001b[0;34m'state'\u001b[0m\u001b[0;34m]\u001b[0m\u001b[0;34m\u001b[0m\u001b[0;34m\u001b[0m\u001b[0m\n\u001b[1;32m   1483\u001b[0m         \u001b[0;32mif\u001b[0m \u001b[0mstate\u001b[0m \u001b[0;32mnot\u001b[0m \u001b[0;32min\u001b[0m \u001b[0;34m[\u001b[0m\u001b[0;34m'UNSUBMITTED'\u001b[0m\u001b[0;34m,\u001b[0m \u001b[0;34m'READY'\u001b[0m\u001b[0;34m,\u001b[0m \u001b[0;34m'RUNNING'\u001b[0m\u001b[0;34m]\u001b[0m\u001b[0;34m:\u001b[0m\u001b[0;34m\u001b[0m\u001b[0;34m\u001b[0m\u001b[0m\n",
            "\u001b[0;31mKeyboardInterrupt\u001b[0m: "
          ]
        }
      ],
      "source": [
        "mss2TmTask = exportFinalCorrectedMssCol(LLR_params)\n",
        "monitorTaskStatus(mss2TmTask)"
      ]
    },
    {
      "cell_type": "markdown",
      "metadata": {
        "id": "XMnhczvubntn"
      },
      "source": [
        "## **Run LandTrendr on the 50-year Time Series**\n",
        "\n",
        "---\n",
        "\n",
        "This step collects all of the Landsat imagery from later years (TM, ETM+, OLI, and OLI-2 sensors), filters them by the same days of year (**`DOY_RANGE`**), masks out cloudy pixels, and creates annual medoid composite images. This is combined with the MSS collection you exported in the previous step for a total of 50 years!\n",
        "\n",
        "It then runs the [LandTrendr](https://emapr.github.io/LT-GEE/index.html) algorithm to distill 50+ years of spectral information into periods of relative stability and disturbance or change. This temporal segmentation information, such as the years and magnitude of disturbance, is captured in the output image, **`landtrendr`**, which is saved to your assets folder. This step can take approximately 2 hours to run.\n",
        "\n",
        "For more information on how to interpret and work with this output in Earth Engine, check out this [guide](https://emapr.github.io/LT-GEE/lt-gee-outputs.html) or this [workshop](https://youtu.be/gsfHNzbmY10). \n"
      ]
    },
    {
      "cell_type": "code",
      "execution_count": null,
      "metadata": {
        "colab": {
          "base_uri": "https://localhost:8080/"
        },
        "id": "BkVUN94ebp1h",
        "outputId": "6913efbe-4e00-4b97-b023-a9bfa9bf36cf"
      },
      "outputs": [
        {
          "name": "stdout",
          "output_type": "stream",
          "text": [
            "Exporting LandTrendr segmentation and FTV image array, please wait.\n",
            "projects/ee-annalisertaylor/assets/LandsatLinkr/047034/landtrendr\n",
            "COMPLETED\n"
          ]
        }
      ],
      "source": [
        "ltTask = exportLt(LLR_params)\n",
        "monitorTaskStatus(ltTask)"
      ]
    },
    {
      "cell_type": "markdown",
      "metadata": {
        "id": "kqmbgye8WD9t"
      },
      "source": [
        "## **Explore 50 Years of Landsat in Earth Engine**\n",
        "\n",
        "---\n",
        "\n",
        "Now that we’ve run all of our exports, we’ll move into the EE Code Editor to visualize and interactively inspect the results. Open [this example script](https://code.earthengine.google.com/?scriptPath=users%2Fannalisertaylor%2FG4G%3ALLR_Workshop_100622.js) in Earth Engine (and login if prompted). You may choose to save a copy to your account and name it ‘LLR_Workshop’ or something similar. Once your **`landtrendr`** asset has exported, change the main parameters in the EE script to investigate your data! "
      ]
    }
  ],
  "metadata": {
    "colab": {
      "collapsed_sections": [],
      "provenance": [],
      "toc_visible": true
    },
    "kernelspec": {
      "display_name": "Python 3",
      "name": "python3"
    },
    "language_info": {
      "name": "python"
    }
  },
  "nbformat": 4,
  "nbformat_minor": 0
}