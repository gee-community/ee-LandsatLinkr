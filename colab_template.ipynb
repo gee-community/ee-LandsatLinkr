{
  "cells": [
    {
      "cell_type": "markdown",
      "source": [
        "[![Open In Colab](https://colab.research.google.com/assets/colab-badge.svg)](https://colab.research.google.com/github/gee-community/ee-LandsatLinkr/landsatlinkr_run_template.ipynb)"
      ],
      "metadata": {
        "id": "ElDwLGzPc-VS"
      }
    },
    {
      "cell_type": "markdown",
      "metadata": {
        "id": "G-uiqaRAOo_Q"
      },
      "source": [
        "# Environment setup\n",
        "\n"
      ]
    },
    {
      "cell_type": "markdown",
      "metadata": {
        "id": "gzkiZpJPOXwm"
      },
      "source": [
        "Import the Earth Engine API and authenticate to the service"
      ]
    },
    {
      "cell_type": "code",
      "execution_count": null,
      "metadata": {
        "id": "uPG-SZDcOC7W"
      },
      "outputs": [],
      "source": [
        "import ee\n",
        "ee.Authenticate()\n",
        "ee.Initialize()"
      ]
    },
    {
      "cell_type": "markdown",
      "metadata": {
        "id": "1htUCSlsOajh"
      },
      "source": [
        "Get LandsatLinkr library."
      ]
    },
    {
      "cell_type": "code",
      "execution_count": null,
      "metadata": {
        "id": "oSXgOmkYGcQO"
      },
      "outputs": [],
      "source": [
        "!rm -r /content/ee-LandsatLinkr\n",
        "!git clone https://github.com/gee-community/ee-LandsatLinkr --quiet\n",
        "import sys\n",
        "sys.path.append(\"/content/ee-LandsatLinkr\")\n",
        "from landsatlinkr import *"
      ]
    },
    {
      "cell_type": "markdown",
      "metadata": {
        "id": "P4fR8xWSKj8Z"
      },
      "source": [
        "# Identity MSS WRS-1 tile ID(s)\n",
        "\n",
        "\n",
        "1. Visit: https://code.earthengine.google.com/978fb6b2d523007918d77f2b35048c4a \n",
        "2. In the map, zoom to your study area and select its location to reveal the WRS-1 tile IDs at that location (this may take a minute or two to load)\n",
        "3. Copy the WRS-1 tile ID from the pop-up window. If your study area overlaps with two or more tile footprints, you should note all of the WRS-1 tile IDs and process as many tiles that intersect the study region one at a time – the results can be composited later. For now, select one WRS-1 tile ID to begin with (you can only process one tile ID at a time).\n",
        "4. Paste this WRS-1 tile ID into your run script as the WRS_1_GRANULE variable:"
      ]
    },
    {
      "cell_type": "code",
      "execution_count": null,
      "metadata": {
        "id": "vPcdzuQdH8p0"
      },
      "outputs": [],
      "source": [
        "PROJECT_DIR = 'projects/ee-braaten/assets/llr' \n",
        "WRS_1_GRANULE =  '050028' #(saint helens) # '041029' (west yellowstone) #    '049030' (western oregon)"
      ]
    },
    {
      "cell_type": "markdown",
      "metadata": {
        "id": "hnsSQ7REP0eW"
      },
      "source": [
        "Create a project directory for this MSS WRS-1 ID\n",
        "\n",
        "TODO: does not warn you if it failed"
      ]
    },
    {
      "cell_type": "code",
      "execution_count": null,
      "metadata": {
        "id": "6BysCvTPOWyN"
      },
      "outputs": [],
      "source": [
        "createProjectDir(PROJECT_DIR, WRS_1_GRANULE)"
      ]
    },
    {
      "cell_type": "markdown",
      "metadata": {
        "id": "C2fOKd_VQz8v"
      },
      "source": [
        "Set variables TODO: should allow people to select the end year, right now I think it is hard-coded to 2021"
      ]
    },
    {
      "cell_type": "code",
      "execution_count": null,
      "metadata": {
        "id": "i-xS5u88QxyL"
      },
      "outputs": [],
      "source": [
        "CRS = 'EPSG:3857'\n",
        "DOY_RANGE = [160, 254]\n",
        "MAX_CLOUD = 50\n",
        "MAX_GEOM_RMSE = 0.5\n",
        "\n",
        "LT_PARAMS = {\n",
        "    'ftvBands': ['tcb', 'tcg', 'tcw'], #['red', 'green', 'blue'],  # , 'tcb', 'tcg', 'tcw'\n",
        "    'maxSegments': 10,\n",
        "    'spikeThreshold': 0.7,\n",
        "    'vertexCountOvershoot': None,\n",
        "    'preventOneYearRecovery': None,\n",
        "    'recoveryThreshold': 0.5,\n",
        "    'pvalThreshold': None,\n",
        "    'bestModelProportion': None,\n",
        "    'minObservationsNeeded': None,\n",
        "    'scale': 30\n",
        "}\n",
        "\n",
        "params = {\n",
        "  'maxRmseVerify': MAX_GEOM_RMSE,\n",
        "  'maxCloudCover': MAX_CLOUD,\n",
        "  'doyRange': DOY_RANGE,\n",
        "  'wrs1': WRS_1_GRANULE,\n",
        "  'crs': CRS,\n",
        "  'excludeIds': [],\n",
        "  'baseDir': PROJECT_DIR + '/' + WRS_1_GRANULE,\n",
        "  'projectDir': PROJECT_DIR,\n",
        "  'ltParams': LT_PARAMS\n",
        "}"
      ]
    },
    {
      "cell_type": "markdown",
      "metadata": {
        "id": "UyFooaFAhOye"
      },
      "source": [
        "Preview MSS WRS-1 images, note bad images and add them to the `EXCLUDE_IDS` list. Run until all bad images are removed."
      ]
    },
    {
      "cell_type": "code",
      "execution_count": null,
      "metadata": {
        "id": "nzCpb0k7g_Jy"
      },
      "outputs": [],
      "source": [
        "viewWrs1Col(params)"
      ]
    },
    {
      "cell_type": "code",
      "execution_count": null,
      "metadata": {
        "id": "Y9zEeJqnlQSC"
      },
      "outputs": [],
      "source": [
        "# EXCLUDE_IDS = [\n",
        "#   'LM10410291974209GDS03',\n",
        "#   'LM20410291975231GDS02',\n",
        "#   'LM20410291975249AAA04',\n",
        "#   'LM20410291976172GDS04',\n",
        "#   'LM10410291976181AAA02',\n",
        "#   'LM20410291976190GDS02',\n",
        "#   'LM10410291976253AAA05',\n",
        "#   'LM20410291977220GDS04',\n",
        "#   'LM20410291978179AAA02',\n",
        "#   'LM30410291978188AAA02',\n",
        "#   'LM20410291978197AAA02',\n",
        "#   'LM20410291978215AAA02',\n",
        "#   'LM20410291978233AAA02',\n",
        "#   'LM30410291978242AAA02',\n",
        "#   'LM20410291978251AAA02',\n",
        "#   'LM20410291979174XXX01',\n",
        "#   'LM20410291979192AAA05',\n",
        "#   'LM30410291979201AAA08',\n",
        "#   'LM20410291980169AAA08',\n",
        "#   'LM20410291980241AAA05',\n",
        "#   'LM20410291981199AAA03'\n",
        "# ]\n",
        "\n",
        "EXCLUDE_IDS = ['LM30500281982248AAA03']\n",
        "params['excludeIds'] = EXCLUDE_IDS"
      ]
    },
    {
      "cell_type": "markdown",
      "metadata": {
        "id": "35iL-UTkSs8L"
      },
      "source": [
        "Make an MSS reference image. Took about 15-25 minutes"
      ]
    },
    {
      "cell_type": "code",
      "execution_count": null,
      "metadata": {
        "id": "5VZqecuOSsSl"
      },
      "outputs": [],
      "source": [
        "mssRefTask = exportMssRefImg(params)\n",
        "monitorTaskStatus(mssRefTask)"
      ]
    },
    {
      "cell_type": "markdown",
      "metadata": {
        "id": "uR7I7uwftW0m"
      },
      "source": [
        "Prepare MSS images TODO: print a message about what this step is doing, similar to above"
      ]
    },
    {
      "cell_type": "code",
      "execution_count": null,
      "metadata": {
        "id": "V-0lbJNxtZJA"
      },
      "outputs": [],
      "source": [
        "mssWrs1ToWrs2Task = processMssWrs1Imgs(params)\n",
        "monitorTaskStatus(mssWrs1ToWrs2Task)"
      ]
    },
    {
      "cell_type": "markdown",
      "metadata": {
        "id": "Kpr75NIp-aEY"
      },
      "source": [
        "Develop a relationship between MSS and TM images."
      ]
    },
    {
      "cell_type": "code",
      "execution_count": null,
      "metadata": {
        "id": "fUOHSHEXQYat"
      },
      "outputs": [],
      "source": [
        "mss2TmInfoTask = exportMss2TmCoefCol(params)\n",
        "monitorTaskStatus(mss2TmInfoTask)"
      ]
    },
    {
      "cell_type": "markdown",
      "metadata": {
        "id": "AEMG1HHfFlgh"
      },
      "source": [
        "Make MSS imagery match TM."
      ]
    },
    {
      "cell_type": "code",
      "execution_count": null,
      "metadata": {
        "id": "0trxpDSHR3eE"
      },
      "outputs": [],
      "source": [
        "mss2TmTask = exportFinalCorrectedMssCol(params)\n",
        "monitorTaskStatus(mss2TmTask)"
      ]
    },
    {
      "cell_type": "markdown",
      "metadata": {
        "id": "XMnhczvubntn"
      },
      "source": [
        "Run LandTrendr.\n",
        "\n"
      ]
    },
    {
      "cell_type": "code",
      "execution_count": null,
      "metadata": {
        "colab": {
          "background_save": true
        },
        "id": "BkVUN94ebp1h"
      },
      "outputs": [],
      "source": [
        "ltTask = exportLt(params)\n",
        "monitorTaskStatus(ltTask)"
      ]
    }
  ],
  "metadata": {
    "colab": {
      "name": "landsatlinkr_run_template.ipynb",
      "provenance": []
    },
    "kernelspec": {
      "display_name": "Python 3",
      "name": "python3"
    },
    "language_info": {
      "name": "python"
    }
  },
  "nbformat": 4,
  "nbformat_minor": 0
}